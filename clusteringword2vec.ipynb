{
 "cells": [
  {
   "cell_type": "markdown",
   "metadata": {},
   "source": [
    "## Part 1 : Clustering :\n",
    "\n",
    "For this part I used the Inaugral address of US Presidents starting from George Washington to President Barack Obama. I was interested in exploring patterns and underlying groupings that can be discovered by clusteting the documents. \n",
    "\n",
    "#### Broadly I carried out the following steps:\n",
    "   * Donwloaded the corpus from NLTK\n",
    "   * Augmented the data by adding the year of speech and the political party of each President\n",
    "   * Ran TFIDF vecotrizer to vectorize the document \n",
    "   * Ran K-Nearest Neigbor algorithm on top of the 60000+ dimension sparse vector\n",
    "   * Used Principal Components Analysis to reduce the dimension of the sparse vector to two-dimensions so that It would aid in vizualisation\n",
    "   * Ran KNN on top of the dimensionality reduced data using mutiple K values and settled on K=3\n",
    "   \n",
    "   \n",
    "#### Observations\n",
    "* It is interesting to note that when we carry out vizualise the KNN used on top of dimension reduced data .. There is a definite pattern of clusteting in terms of the era from which the speech came from . Speeeches from 19th cetury to early 20th centtury prominently form a cluster while early 20th to mid 20th form their seperate cluster and mid 20th to present emerging as a cluster. \n",
    "\n",
    "* While I tried applying coloring based on party affiliation and did not find significant grouping \n",
    "\n",
    "* It can be reasoned that that the theme of inaugural address usually remains same within a period while the key issues and ligustic style of speech may differ among periods. The \n",
    "\n",
    "<img src= \"cluster.jpg\">"
   ]
  },
  {
   "cell_type": "code",
   "execution_count": 58,
   "metadata": {
    "collapsed": true
   },
   "outputs": [],
   "source": [
    "# Importing Libraries\n",
    "\n",
    "import numpy as np \n",
    "import string\n",
    "from urllib2 import urlopen\n",
    "import nltk, re, pprint\n",
    "from nltk.corpus import wordnet as wn"
   ]
  },
  {
   "cell_type": "code",
   "execution_count": 59,
   "metadata": {
    "collapsed": false
   },
   "outputs": [],
   "source": [
    "import nltk\n",
    "#nltk.download()\n",
    "from nltk.corpus import gutenberg"
   ]
  },
  {
   "cell_type": "code",
   "execution_count": 60,
   "metadata": {
    "collapsed": true
   },
   "outputs": [],
   "source": [
    "import nltk \n",
    "from nltk.tokenize import sent_tokenize, word_tokenize\n",
    "from nltk.corpus import stopwords\n",
    "from nltk.tokenize import  PunktSentenceTokenizer\n",
    "from string import punctuation\n",
    "import re\n",
    "from nltk.stem import WordNetLemmatizer\n",
    "from nltk.corpus import wordnet\n",
    "\n",
    "from nltk.corpus import inaugural\n",
    "import pandas as pd\n",
    "from nltk.corpus import state_union\n",
    "\n"
   ]
  },
  {
   "cell_type": "code",
   "execution_count": 61,
   "metadata": {
    "collapsed": false
   },
   "outputs": [
    {
     "name": "stdout",
     "output_type": "stream",
     "text": [
      "[u'1789-Washington.txt' u'1793-Washington.txt' u'1797-Adams.txt'\n",
      " u'1801-Jefferson.txt' u'1805-Jefferson.txt' u'1809-Madison.txt'\n",
      " u'1813-Madison.txt' u'1817-Monroe.txt' u'1821-Monroe.txt'\n",
      " u'1825-Adams.txt' u'1829-Jackson.txt' u'1833-Jackson.txt'\n",
      " u'1837-VanBuren.txt' u'1841-Harrison.txt' u'1845-Polk.txt'\n",
      " u'1849-Taylor.txt' u'1853-Pierce.txt' u'1857-Buchanan.txt'\n",
      " u'1861-Lincoln.txt' u'1865-Lincoln.txt' u'1869-Grant.txt'\n",
      " u'1873-Grant.txt' u'1877-Hayes.txt' u'1881-Garfield.txt'\n",
      " u'1885-Cleveland.txt' u'1889-Harrison.txt' u'1893-Cleveland.txt'\n",
      " u'1897-McKinley.txt' u'1901-McKinley.txt' u'1905-Roosevelt.txt'\n",
      " u'1909-Taft.txt' u'1913-Wilson.txt' u'1917-Wilson.txt' u'1921-Harding.txt'\n",
      " u'1925-Coolidge.txt' u'1929-Hoover.txt' u'1933-Roosevelt.txt'\n",
      " u'1937-Roosevelt.txt' u'1941-Roosevelt.txt' u'1945-Roosevelt.txt'\n",
      " u'1949-Truman.txt' u'1953-Eisenhower.txt' u'1957-Eisenhower.txt'\n",
      " u'1961-Kennedy.txt' u'1965-Johnson.txt' u'1969-Nixon.txt'\n",
      " u'1973-Nixon.txt' u'1977-Carter.txt' u'1981-Reagan.txt' u'1985-Reagan.txt'\n",
      " u'1989-Bush.txt' u'1993-Clinton.txt' u'1997-Clinton.txt' u'2001-Bush.txt'\n",
      " u'2005-Bush.txt' u'2009-Obama.txt']\n"
     ]
    }
   ],
   "source": [
    "\n",
    "# Exploring the Inaugural address corpus\n",
    "fields=inaugural.fileids()\n",
    "print np.unique(fields)"
   ]
  },
  {
   "cell_type": "code",
   "execution_count": 62,
   "metadata": {
    "collapsed": false
   },
   "outputs": [],
   "source": [
    "# Data Augmentation\n",
    "\n",
    "data=pd.DataFrame(columns=(\"President\", \"Speech\"))\n",
    "\n",
    "\n",
    "for i in range(len(fields)):\n",
    "    field=fields[i]\n",
    "    text=inaugural.raw(field)\n",
    "    data.loc[i]=[field,text]\n",
    "a=[\"NA\",\"NA\",\"NA\",\"NA\",\"NA\",\"NA\",\"NA\",\"NA\",\"NA\",\"NA\",\"NA\",\"NA\",\"NA\",\"NA\",\"NA\",\"NA\",\"Democrat\",\"Democrat\",\"Republican\",\"Republican\"\n",
    " ,\"Republican\",\"Republican\",\"Republican\",\"Republican\",\"Democrat\",\"Republican\",\"Democrat\",\"Republican\",\"Republican\"\n",
    ",\"Republican\",\"Republican\",\"Democrat\",\"Democrat\",\"Republican\",\"Republican\",\"Republican\",\"Democrat\",\"Democrat\"\n",
    ",\"Democrat\",\"Democrat\",\"Democrat\",\"Republican\",\"Republican\",\"Democrat\",\"Democrat\",\"Republican\",\"Republican\"\n",
    " ,\"Democrat\",\"Republican\",\"Republican\",\"Republican\",\"Democrat\",\"Democrat\",\"Republican\",\"Republican\",\"Democrat\"]\n",
    "data[\"Party\"]=a\n"
   ]
  },
  {
   "cell_type": "code",
   "execution_count": 63,
   "metadata": {
    "collapsed": false
   },
   "outputs": [],
   "source": [
    "# Referred  Brandonroses code for stemming : Modified my stemming code I used for \n",
    "# Keyphrase assignment \n",
    "\n",
    "from nltk.stem.snowball import SnowballStemmer\n",
    "stemmer = SnowballStemmer(\"english\")\n",
    "def tokenize_and_stem(text):\n",
    "    # first tokenize by sentence, then by word to ensure that punctuation is caught as it's own token\n",
    "    tokens = [word for sent in nltk.sent_tokenize(text) for word in nltk.word_tokenize(sent)]\n",
    "    filtered_tokens = []\n",
    "    # filter out any tokens not containing letters (e.g., numeric tokens, raw punctuation)\n",
    "    for token in tokens:\n",
    "        if re.search('[a-zA-Z]', token):\n",
    "            filtered_tokens.append(token)\n",
    "    stems = [stemmer.stem(t) for t in filtered_tokens]\n",
    "    return stems"
   ]
  },
  {
   "cell_type": "code",
   "execution_count": 64,
   "metadata": {
    "collapsed": false
   },
   "outputs": [],
   "source": [
    "# Vectoring the speech data \n",
    "\n",
    "from sklearn.feature_extraction.text import TfidfVectorizer\n",
    "vectorizer = TfidfVectorizer(min_df=1,tokenizer=tokenize_and_stem, ngram_range=(1,2))\n",
    "x_data=vectorizer.fit_transform(data[\"Speech\"])"
   ]
  },
  {
   "cell_type": "code",
   "execution_count": 65,
   "metadata": {
    "collapsed": false
   },
   "outputs": [],
   "source": [
    "# Using PCA to reduce the dimension of the sparse TFIDF vector to 2 principle \n",
    "#components . The reason is to help vizualise clusters\n",
    "from sklearn.decomposition import PCA\n",
    "pca = PCA(n_components=2)\n",
    "reduced_x=pca.fit(x_data.toarray()).transform(x_data.toarray())"
   ]
  },
  {
   "cell_type": "code",
   "execution_count": 66,
   "metadata": {
    "collapsed": false
   },
   "outputs": [
    {
     "name": "stdout",
     "output_type": "stream",
     "text": [
      "CPU times: user 2 s, sys: 11.9 ms, total: 2.01 s\n",
      "Wall time: 2.01 s\n"
     ]
    }
   ],
   "source": [
    "# Running K NN on top of original TFIDF Vector - I am not using this further\n",
    "\n",
    "from sklearn.cluster import KMeans\n",
    "\n",
    "num_clusters = 2\n",
    "\n",
    "km = KMeans(n_clusters=num_clusters)\n",
    "\n",
    "%time km.fit(x_data)\n",
    "\n",
    "clusters = km.labels_.tolist()"
   ]
  },
  {
   "cell_type": "code",
   "execution_count": 67,
   "metadata": {
    "collapsed": false
   },
   "outputs": [
    {
     "name": "stdout",
     "output_type": "stream",
     "text": [
      "CPU times: user 19.7 ms, sys: 2.17 ms, total: 21.8 ms\n",
      "Wall time: 20.3 ms\n"
     ]
    }
   ],
   "source": [
    "# Running KNN on top of the dimension reduced speech data \n",
    "\n",
    "from sklearn.cluster import KMeans\n",
    "\n",
    "num_clusters = 4\n",
    "\n",
    "km = KMeans(n_clusters=num_clusters)\n",
    "\n",
    "%time km.fit(reduced_x)\n",
    "\n",
    "clusters = km.labels_.tolist()"
   ]
  },
  {
   "cell_type": "code",
   "execution_count": 68,
   "metadata": {
    "collapsed": false
   },
   "outputs": [],
   "source": [
    "# Augmenting the data frame with year of speech\n",
    "import re\n",
    "data[\"clusters\"]=clusters\n",
    "year=[]\n",
    "for i in data[\"President\"]:\n",
    "    c= re.findall('\\d+', i)\n",
    "    year.append(c[0])\n",
    "data[\"year\"]=year"
   ]
  },
  {
   "cell_type": "code",
   "execution_count": 69,
   "metadata": {
    "collapsed": true
   },
   "outputs": [],
   "source": [
    "# Augmenting the data with the political party affiliation\n",
    "\n",
    "par_cat=[]\n",
    "for i in data[\"Party\"]:\n",
    "    if i==\"NA\":\n",
    "        a=0\n",
    "    elif i== \"Democrat\":\n",
    "        a=1\n",
    "    else:\n",
    "        a=2\n",
    "    par_cat.append(a)\n",
    "    "
   ]
  },
  {
   "cell_type": "code",
   "execution_count": 70,
   "metadata": {
    "collapsed": false
   },
   "outputs": [
    {
     "data": {
      "text/html": [
       "<div>\n",
       "<table border=\"1\" class=\"dataframe\">\n",
       "  <thead>\n",
       "    <tr style=\"text-align: right;\">\n",
       "      <th></th>\n",
       "      <th>President</th>\n",
       "      <th>Speech</th>\n",
       "      <th>Party</th>\n",
       "      <th>clusters</th>\n",
       "      <th>year</th>\n",
       "      <th>party_cat</th>\n",
       "    </tr>\n",
       "  </thead>\n",
       "  <tbody>\n",
       "    <tr>\n",
       "      <th>0</th>\n",
       "      <td>1789-Washington.txt</td>\n",
       "      <td>Fellow-Citizens of the Senate and of the House...</td>\n",
       "      <td>NA</td>\n",
       "      <td>2</td>\n",
       "      <td>1789</td>\n",
       "      <td>0</td>\n",
       "    </tr>\n",
       "    <tr>\n",
       "      <th>1</th>\n",
       "      <td>1793-Washington.txt</td>\n",
       "      <td>Fellow citizens, I am again called upon by the...</td>\n",
       "      <td>NA</td>\n",
       "      <td>3</td>\n",
       "      <td>1793</td>\n",
       "      <td>0</td>\n",
       "    </tr>\n",
       "    <tr>\n",
       "      <th>2</th>\n",
       "      <td>1797-Adams.txt</td>\n",
       "      <td>When it was first perceived, in early times, t...</td>\n",
       "      <td>NA</td>\n",
       "      <td>2</td>\n",
       "      <td>1797</td>\n",
       "      <td>0</td>\n",
       "    </tr>\n",
       "    <tr>\n",
       "      <th>3</th>\n",
       "      <td>1801-Jefferson.txt</td>\n",
       "      <td>Friends and Fellow Citizens:\\n\\nCalled upon to...</td>\n",
       "      <td>NA</td>\n",
       "      <td>2</td>\n",
       "      <td>1801</td>\n",
       "      <td>0</td>\n",
       "    </tr>\n",
       "    <tr>\n",
       "      <th>4</th>\n",
       "      <td>1805-Jefferson.txt</td>\n",
       "      <td>Proceeding, fellow citizens, to that qualifica...</td>\n",
       "      <td>NA</td>\n",
       "      <td>2</td>\n",
       "      <td>1805</td>\n",
       "      <td>0</td>\n",
       "    </tr>\n",
       "  </tbody>\n",
       "</table>\n",
       "</div>"
      ],
      "text/plain": [
       "             President                                             Speech  \\\n",
       "0  1789-Washington.txt  Fellow-Citizens of the Senate and of the House...   \n",
       "1  1793-Washington.txt  Fellow citizens, I am again called upon by the...   \n",
       "2       1797-Adams.txt  When it was first perceived, in early times, t...   \n",
       "3   1801-Jefferson.txt  Friends and Fellow Citizens:\\n\\nCalled upon to...   \n",
       "4   1805-Jefferson.txt  Proceeding, fellow citizens, to that qualifica...   \n",
       "\n",
       "  Party  clusters  year  party_cat  \n",
       "0    NA         2  1789          0  \n",
       "1    NA         3  1793          0  \n",
       "2    NA         2  1797          0  \n",
       "3    NA         2  1801          0  \n",
       "4    NA         2  1805          0  "
      ]
     },
     "execution_count": 70,
     "metadata": {},
     "output_type": "execute_result"
    }
   ],
   "source": [
    "\n",
    "data[\"party_cat\"]=par_cat\n",
    "data.head()"
   ]
  },
  {
   "cell_type": "code",
   "execution_count": 90,
   "metadata": {
    "collapsed": false
   },
   "outputs": [
    {
     "data": {
      "text/html": [
       "\n",
       "\n",
       "<style>\n",
       "\n",
       "</style>\n",
       "\n",
       "<div id=\"fig_el2571463211156006568215696\"></div>\n",
       "<script>\n",
       "function mpld3_load_lib(url, callback){\n",
       "  var s = document.createElement('script');\n",
       "  s.src = url;\n",
       "  s.async = true;\n",
       "  s.onreadystatechange = s.onload = callback;\n",
       "  s.onerror = function(){console.warn(\"failed to load library \" + url);};\n",
       "  document.getElementsByTagName(\"head\")[0].appendChild(s);\n",
       "}\n",
       "\n",
       "if(typeof(mpld3) !== \"undefined\" && mpld3._mpld3IsLoaded){\n",
       "   // already loaded: just create the figure\n",
       "   !function(mpld3){\n",
       "       \n",
       "       mpld3.draw_figure(\"fig_el2571463211156006568215696\", {\"axes\": [{\"xlim\": [-0.40000000000000002, 0.5], \"yscale\": \"linear\", \"axesbg\": \"#EEEEEE\", \"texts\": [{\"v_baseline\": \"auto\", \"h_anchor\": \"middle\", \"color\": \"#000000\", \"text\": \"Scatter Plot (with tooltips!)\", \"coordinates\": \"axes\", \"zorder\": 3, \"alpha\": 1, \"fontsize\": 20.0, \"position\": [0.49999999999999994, 1.0224014336917562], \"rotation\": -0.0, \"id\": \"el257147495594192\"}], \"zoomable\": true, \"images\": [], \"xdomain\": [-0.40000000000000002, 0.5], \"ylim\": [-0.20000000000000001, 1.0000000000000002], \"paths\": [], \"sharey\": [], \"sharex\": [], \"axesbgalpha\": null, \"axes\": [{\"scale\": \"linear\", \"tickformat\": null, \"grid\": {\"color\": \"#FFFFFF\", \"alpha\": 1.0, \"dasharray\": \"10,0\", \"gridOn\": true}, \"fontsize\": 10.0, \"position\": \"bottom\", \"nticks\": 10, \"tickvalues\": null}, {\"scale\": \"linear\", \"tickformat\": null, \"grid\": {\"color\": \"#FFFFFF\", \"alpha\": 1.0, \"dasharray\": \"10,0\", \"gridOn\": true}, \"fontsize\": 10.0, \"position\": \"left\", \"nticks\": 8, \"tickvalues\": null}], \"lines\": [], \"markers\": [], \"id\": \"el257146321117648\", \"ydomain\": [-0.20000000000000001, 1.0000000000000002], \"collections\": [{\"paths\": [[[[0.0, -0.5], [0.13260155, -0.5], [0.25978993539242673, -0.44731684579412084], [0.3535533905932738, -0.3535533905932738], [0.44731684579412084, -0.25978993539242673], [0.5, -0.13260155], [0.5, 0.0], [0.5, 0.13260155], [0.44731684579412084, 0.25978993539242673], [0.3535533905932738, 0.3535533905932738], [0.25978993539242673, 0.44731684579412084], [0.13260155, 0.5], [0.0, 0.5], [-0.13260155, 0.5], [-0.25978993539242673, 0.44731684579412084], [-0.3535533905932738, 0.3535533905932738], [-0.44731684579412084, 0.25978993539242673], [-0.5, 0.13260155], [-0.5, 0.0], [-0.5, -0.13260155], [-0.44731684579412084, -0.25978993539242673], [-0.3535533905932738, -0.3535533905932738], [-0.25978993539242673, -0.44731684579412084], [-0.13260155, -0.5], [0.0, -0.5]], [\"M\", \"C\", \"C\", \"C\", \"C\", \"C\", \"C\", \"C\", \"C\", \"Z\"]]], \"edgecolors\": [\"#000000\"], \"edgewidths\": [1.0], \"offsets\": \"data01\", \"yindex\": 1, \"id\": \"el257147495597584\", \"pathtransforms\": [[7.0710678118654755, 0.0, 0.0, 7.0710678118654755, 0.0, 0.0]], \"pathcoordinates\": \"display\", \"offsetcoordinates\": \"data\", \"zorder\": 1, \"xindex\": 0, \"alphas\": [0.3], \"facecolors\": [\"#FFE500\", \"#7F0000\", \"#FFE500\", \"#FFE500\", \"#FFE500\", \"#FFE500\", \"#FFE500\", \"#FFE500\", \"#FFE500\", \"#FFE500\", \"#FFE500\", \"#FFE500\", \"#FFE500\", \"#FFE500\", \"#FFE500\", \"#FFE500\", \"#FFE500\", \"#FFE500\", \"#FFE500\", \"#00007F\", \"#FFE500\", \"#FFE500\", \"#FFE500\", \"#FFE500\", \"#FFE500\", \"#FFE500\", \"#FFE500\", \"#FFE500\", \"#FFE500\", \"#00007F\", \"#FFE500\", \"#00007F\", \"#00007F\", \"#00007F\", \"#00007F\", \"#FFE500\", \"#00007F\", \"#00007F\", \"#00007F\", \"#00D4FF\", \"#00007F\", \"#00007F\", \"#00007F\", \"#00007F\", \"#00D4FF\", \"#00D4FF\", \"#00D4FF\", \"#00D4FF\", \"#00D4FF\", \"#00D4FF\", \"#00D4FF\", \"#00D4FF\", \"#00D4FF\", \"#00D4FF\", \"#00007F\", \"#00D4FF\"]}], \"xscale\": \"linear\", \"bbox\": [0.125, 0.125, 0.77500000000000002, 0.77500000000000002]}], \"height\": 288.0, \"width\": 432.0, \"plugins\": [{\"type\": \"reset\"}, {\"enabled\": false, \"button\": true, \"type\": \"zoom\"}, {\"enabled\": false, \"button\": true, \"type\": \"boxzoom\"}, {\"voffset\": 10, \"labels\": [\"1789\", \"1793\", \"1797\", \"1801\", \"1805\", \"1809\", \"1813\", \"1817\", \"1821\", \"1825\", \"1829\", \"1833\", \"1837\", \"1841\", \"1845\", \"1849\", \"1853\", \"1857\", \"1861\", \"1865\", \"1869\", \"1873\", \"1877\", \"1881\", \"1885\", \"1889\", \"1893\", \"1897\", \"1901\", \"1905\", \"1909\", \"1913\", \"1917\", \"1921\", \"1925\", \"1929\", \"1933\", \"1937\", \"1941\", \"1945\", \"1949\", \"1953\", \"1957\", \"1961\", \"1965\", \"1969\", \"1973\", \"1977\", \"1981\", \"1985\", \"1989\", \"1993\", \"1997\", \"2001\", \"2005\", \"2009\"], \"hoffset\": 0, \"location\": \"mouse\", \"type\": \"tooltip\", \"id\": \"el257147495597584\"}], \"data\": {\"data01\": [[-0.18683724570353075, 0.1205989981140788], [-0.05314218321239494, 0.8668145955042765], [-0.14726579483333604, -0.023208300969031655], [-0.10683807859183377, -0.006469966721535217], [-0.10331116121899855, 0.0041122489977982925], [-0.17367271990993927, 0.03943343782128653], [-0.10489455202622287, 0.035517549688518474], [-0.16405114462450585, -0.06577294487568264], [-0.18819290693530838, -0.040358847074123426], [-0.2401027911816141, -0.04264578920138361], [-0.1670498886502343, 0.040723837763666774], [-0.16726121599622099, 0.017161971220466303], [-0.11722165076376061, -0.052763701277322064], [-0.2679791696858322, -0.04290194943478397], [-0.20885655386289956, -0.07033765248097283], [-0.1909815670792606, 0.06890991927840147], [-0.13635412856577214, -0.05309730501283112], [-0.1808063941003014, -0.026528899589086923], [-0.15275076491891218, 0.021353328368448447], [0.005363585091994614, 0.2707099338776349], [-0.10015869875749182, 0.1414829406442989], [-0.13393518011775488, 0.05603251459919166], [-0.2225701445977632, -0.034068369329739945], [-0.21694454369053398, -0.051543719532712994], [-0.1795738622322961, -0.056297206711716466], [-0.1422402862108385, -0.09022822980037495], [-0.10414168597430104, -0.05557332741829719], [-0.18263192527421152, -0.07662133708026365], [-0.13086188742626742, -0.04710125361110143], [0.15890371109949558, 0.0015065738026069826], [-0.1867051633168403, -0.07011720825533466], [0.07135441777084148, -0.043656850779384], [0.1075808799052882, -0.05290932620620747], [0.10098191128320042, -0.09620916921183988], [0.0054911641194545875, -0.11048711804346002], [-0.09705071124871285, -0.09400724633895134], [-0.005963800664714186, -0.021002349914949817], [0.11437395823877805, -0.024482504142753554], [0.045931932603501036, -0.026910677270381163], [0.34444419106147395, 0.20821457529212037], [0.1309808666186681, -0.06887198273764673], [0.08355336318134242, -0.08397884807305123], [0.1322625104943259, -0.056879548654159416], [0.17637749701367023, 0.05613308483812196], [0.26189182973389735, -0.009715596385826574], [0.20461169897297568, 0.004076929904004388], [0.30960248191173445, 0.04669898376777688], [0.37647747018832084, 0.045403259121380046], [0.2210180171629284, -0.05672196073909904], [0.25729674423489485, -0.07670451244410435], [0.30031343749007144, -0.036683850784049], [0.35371547135430725, -0.008601825948750454], [0.23587715113267096, -0.07503622341352077], [0.3886941808581258, -0.02298772614887878], [0.11297052498818258, -0.08081438153208137], [0.2602788048624604, -0.09258697545868841]]}, \"id\": \"el257146321115600\"});\n",
       "   }(mpld3);\n",
       "}else if(typeof define === \"function\" && define.amd){\n",
       "   // require.js is available: use it to load d3/mpld3\n",
       "   require.config({paths: {d3: \"https://mpld3.github.io/js/d3.v3.min\"}});\n",
       "   require([\"d3\"], function(d3){\n",
       "      window.d3 = d3;\n",
       "      mpld3_load_lib(\"https://mpld3.github.io/js/mpld3.v0.2.js\", function(){\n",
       "         \n",
       "         mpld3.draw_figure(\"fig_el2571463211156006568215696\", {\"axes\": [{\"xlim\": [-0.40000000000000002, 0.5], \"yscale\": \"linear\", \"axesbg\": \"#EEEEEE\", \"texts\": [{\"v_baseline\": \"auto\", \"h_anchor\": \"middle\", \"color\": \"#000000\", \"text\": \"Scatter Plot (with tooltips!)\", \"coordinates\": \"axes\", \"zorder\": 3, \"alpha\": 1, \"fontsize\": 20.0, \"position\": [0.49999999999999994, 1.0224014336917562], \"rotation\": -0.0, \"id\": \"el257147495594192\"}], \"zoomable\": true, \"images\": [], \"xdomain\": [-0.40000000000000002, 0.5], \"ylim\": [-0.20000000000000001, 1.0000000000000002], \"paths\": [], \"sharey\": [], \"sharex\": [], \"axesbgalpha\": null, \"axes\": [{\"scale\": \"linear\", \"tickformat\": null, \"grid\": {\"color\": \"#FFFFFF\", \"alpha\": 1.0, \"dasharray\": \"10,0\", \"gridOn\": true}, \"fontsize\": 10.0, \"position\": \"bottom\", \"nticks\": 10, \"tickvalues\": null}, {\"scale\": \"linear\", \"tickformat\": null, \"grid\": {\"color\": \"#FFFFFF\", \"alpha\": 1.0, \"dasharray\": \"10,0\", \"gridOn\": true}, \"fontsize\": 10.0, \"position\": \"left\", \"nticks\": 8, \"tickvalues\": null}], \"lines\": [], \"markers\": [], \"id\": \"el257146321117648\", \"ydomain\": [-0.20000000000000001, 1.0000000000000002], \"collections\": [{\"paths\": [[[[0.0, -0.5], [0.13260155, -0.5], [0.25978993539242673, -0.44731684579412084], [0.3535533905932738, -0.3535533905932738], [0.44731684579412084, -0.25978993539242673], [0.5, -0.13260155], [0.5, 0.0], [0.5, 0.13260155], [0.44731684579412084, 0.25978993539242673], [0.3535533905932738, 0.3535533905932738], [0.25978993539242673, 0.44731684579412084], [0.13260155, 0.5], [0.0, 0.5], [-0.13260155, 0.5], [-0.25978993539242673, 0.44731684579412084], [-0.3535533905932738, 0.3535533905932738], [-0.44731684579412084, 0.25978993539242673], [-0.5, 0.13260155], [-0.5, 0.0], [-0.5, -0.13260155], [-0.44731684579412084, -0.25978993539242673], [-0.3535533905932738, -0.3535533905932738], [-0.25978993539242673, -0.44731684579412084], [-0.13260155, -0.5], [0.0, -0.5]], [\"M\", \"C\", \"C\", \"C\", \"C\", \"C\", \"C\", \"C\", \"C\", \"Z\"]]], \"edgecolors\": [\"#000000\"], \"edgewidths\": [1.0], \"offsets\": \"data01\", \"yindex\": 1, \"id\": \"el257147495597584\", \"pathtransforms\": [[7.0710678118654755, 0.0, 0.0, 7.0710678118654755, 0.0, 0.0]], \"pathcoordinates\": \"display\", \"offsetcoordinates\": \"data\", \"zorder\": 1, \"xindex\": 0, \"alphas\": [0.3], \"facecolors\": [\"#FFE500\", \"#7F0000\", \"#FFE500\", \"#FFE500\", \"#FFE500\", \"#FFE500\", \"#FFE500\", \"#FFE500\", \"#FFE500\", \"#FFE500\", \"#FFE500\", \"#FFE500\", \"#FFE500\", \"#FFE500\", \"#FFE500\", \"#FFE500\", \"#FFE500\", \"#FFE500\", \"#FFE500\", \"#00007F\", \"#FFE500\", \"#FFE500\", \"#FFE500\", \"#FFE500\", \"#FFE500\", \"#FFE500\", \"#FFE500\", \"#FFE500\", \"#FFE500\", \"#00007F\", \"#FFE500\", \"#00007F\", \"#00007F\", \"#00007F\", \"#00007F\", \"#FFE500\", \"#00007F\", \"#00007F\", \"#00007F\", \"#00D4FF\", \"#00007F\", \"#00007F\", \"#00007F\", \"#00007F\", \"#00D4FF\", \"#00D4FF\", \"#00D4FF\", \"#00D4FF\", \"#00D4FF\", \"#00D4FF\", \"#00D4FF\", \"#00D4FF\", \"#00D4FF\", \"#00D4FF\", \"#00007F\", \"#00D4FF\"]}], \"xscale\": \"linear\", \"bbox\": [0.125, 0.125, 0.77500000000000002, 0.77500000000000002]}], \"height\": 288.0, \"width\": 432.0, \"plugins\": [{\"type\": \"reset\"}, {\"enabled\": false, \"button\": true, \"type\": \"zoom\"}, {\"enabled\": false, \"button\": true, \"type\": \"boxzoom\"}, {\"voffset\": 10, \"labels\": [\"1789\", \"1793\", \"1797\", \"1801\", \"1805\", \"1809\", \"1813\", \"1817\", \"1821\", \"1825\", \"1829\", \"1833\", \"1837\", \"1841\", \"1845\", \"1849\", \"1853\", \"1857\", \"1861\", \"1865\", \"1869\", \"1873\", \"1877\", \"1881\", \"1885\", \"1889\", \"1893\", \"1897\", \"1901\", \"1905\", \"1909\", \"1913\", \"1917\", \"1921\", \"1925\", \"1929\", \"1933\", \"1937\", \"1941\", \"1945\", \"1949\", \"1953\", \"1957\", \"1961\", \"1965\", \"1969\", \"1973\", \"1977\", \"1981\", \"1985\", \"1989\", \"1993\", \"1997\", \"2001\", \"2005\", \"2009\"], \"hoffset\": 0, \"location\": \"mouse\", \"type\": \"tooltip\", \"id\": \"el257147495597584\"}], \"data\": {\"data01\": [[-0.18683724570353075, 0.1205989981140788], [-0.05314218321239494, 0.8668145955042765], [-0.14726579483333604, -0.023208300969031655], [-0.10683807859183377, -0.006469966721535217], [-0.10331116121899855, 0.0041122489977982925], [-0.17367271990993927, 0.03943343782128653], [-0.10489455202622287, 0.035517549688518474], [-0.16405114462450585, -0.06577294487568264], [-0.18819290693530838, -0.040358847074123426], [-0.2401027911816141, -0.04264578920138361], [-0.1670498886502343, 0.040723837763666774], [-0.16726121599622099, 0.017161971220466303], [-0.11722165076376061, -0.052763701277322064], [-0.2679791696858322, -0.04290194943478397], [-0.20885655386289956, -0.07033765248097283], [-0.1909815670792606, 0.06890991927840147], [-0.13635412856577214, -0.05309730501283112], [-0.1808063941003014, -0.026528899589086923], [-0.15275076491891218, 0.021353328368448447], [0.005363585091994614, 0.2707099338776349], [-0.10015869875749182, 0.1414829406442989], [-0.13393518011775488, 0.05603251459919166], [-0.2225701445977632, -0.034068369329739945], [-0.21694454369053398, -0.051543719532712994], [-0.1795738622322961, -0.056297206711716466], [-0.1422402862108385, -0.09022822980037495], [-0.10414168597430104, -0.05557332741829719], [-0.18263192527421152, -0.07662133708026365], [-0.13086188742626742, -0.04710125361110143], [0.15890371109949558, 0.0015065738026069826], [-0.1867051633168403, -0.07011720825533466], [0.07135441777084148, -0.043656850779384], [0.1075808799052882, -0.05290932620620747], [0.10098191128320042, -0.09620916921183988], [0.0054911641194545875, -0.11048711804346002], [-0.09705071124871285, -0.09400724633895134], [-0.005963800664714186, -0.021002349914949817], [0.11437395823877805, -0.024482504142753554], [0.045931932603501036, -0.026910677270381163], [0.34444419106147395, 0.20821457529212037], [0.1309808666186681, -0.06887198273764673], [0.08355336318134242, -0.08397884807305123], [0.1322625104943259, -0.056879548654159416], [0.17637749701367023, 0.05613308483812196], [0.26189182973389735, -0.009715596385826574], [0.20461169897297568, 0.004076929904004388], [0.30960248191173445, 0.04669898376777688], [0.37647747018832084, 0.045403259121380046], [0.2210180171629284, -0.05672196073909904], [0.25729674423489485, -0.07670451244410435], [0.30031343749007144, -0.036683850784049], [0.35371547135430725, -0.008601825948750454], [0.23587715113267096, -0.07503622341352077], [0.3886941808581258, -0.02298772614887878], [0.11297052498818258, -0.08081438153208137], [0.2602788048624604, -0.09258697545868841]]}, \"id\": \"el257146321115600\"});\n",
       "      });\n",
       "    });\n",
       "}else{\n",
       "    // require.js not available: dynamically load d3 & mpld3\n",
       "    mpld3_load_lib(\"https://mpld3.github.io/js/d3.v3.min.js\", function(){\n",
       "         mpld3_load_lib(\"https://mpld3.github.io/js/mpld3.v0.2.js\", function(){\n",
       "                 \n",
       "                 mpld3.draw_figure(\"fig_el2571463211156006568215696\", {\"axes\": [{\"xlim\": [-0.40000000000000002, 0.5], \"yscale\": \"linear\", \"axesbg\": \"#EEEEEE\", \"texts\": [{\"v_baseline\": \"auto\", \"h_anchor\": \"middle\", \"color\": \"#000000\", \"text\": \"Scatter Plot (with tooltips!)\", \"coordinates\": \"axes\", \"zorder\": 3, \"alpha\": 1, \"fontsize\": 20.0, \"position\": [0.49999999999999994, 1.0224014336917562], \"rotation\": -0.0, \"id\": \"el257147495594192\"}], \"zoomable\": true, \"images\": [], \"xdomain\": [-0.40000000000000002, 0.5], \"ylim\": [-0.20000000000000001, 1.0000000000000002], \"paths\": [], \"sharey\": [], \"sharex\": [], \"axesbgalpha\": null, \"axes\": [{\"scale\": \"linear\", \"tickformat\": null, \"grid\": {\"color\": \"#FFFFFF\", \"alpha\": 1.0, \"dasharray\": \"10,0\", \"gridOn\": true}, \"fontsize\": 10.0, \"position\": \"bottom\", \"nticks\": 10, \"tickvalues\": null}, {\"scale\": \"linear\", \"tickformat\": null, \"grid\": {\"color\": \"#FFFFFF\", \"alpha\": 1.0, \"dasharray\": \"10,0\", \"gridOn\": true}, \"fontsize\": 10.0, \"position\": \"left\", \"nticks\": 8, \"tickvalues\": null}], \"lines\": [], \"markers\": [], \"id\": \"el257146321117648\", \"ydomain\": [-0.20000000000000001, 1.0000000000000002], \"collections\": [{\"paths\": [[[[0.0, -0.5], [0.13260155, -0.5], [0.25978993539242673, -0.44731684579412084], [0.3535533905932738, -0.3535533905932738], [0.44731684579412084, -0.25978993539242673], [0.5, -0.13260155], [0.5, 0.0], [0.5, 0.13260155], [0.44731684579412084, 0.25978993539242673], [0.3535533905932738, 0.3535533905932738], [0.25978993539242673, 0.44731684579412084], [0.13260155, 0.5], [0.0, 0.5], [-0.13260155, 0.5], [-0.25978993539242673, 0.44731684579412084], [-0.3535533905932738, 0.3535533905932738], [-0.44731684579412084, 0.25978993539242673], [-0.5, 0.13260155], [-0.5, 0.0], [-0.5, -0.13260155], [-0.44731684579412084, -0.25978993539242673], [-0.3535533905932738, -0.3535533905932738], [-0.25978993539242673, -0.44731684579412084], [-0.13260155, -0.5], [0.0, -0.5]], [\"M\", \"C\", \"C\", \"C\", \"C\", \"C\", \"C\", \"C\", \"C\", \"Z\"]]], \"edgecolors\": [\"#000000\"], \"edgewidths\": [1.0], \"offsets\": \"data01\", \"yindex\": 1, \"id\": \"el257147495597584\", \"pathtransforms\": [[7.0710678118654755, 0.0, 0.0, 7.0710678118654755, 0.0, 0.0]], \"pathcoordinates\": \"display\", \"offsetcoordinates\": \"data\", \"zorder\": 1, \"xindex\": 0, \"alphas\": [0.3], \"facecolors\": [\"#FFE500\", \"#7F0000\", \"#FFE500\", \"#FFE500\", \"#FFE500\", \"#FFE500\", \"#FFE500\", \"#FFE500\", \"#FFE500\", \"#FFE500\", \"#FFE500\", \"#FFE500\", \"#FFE500\", \"#FFE500\", \"#FFE500\", \"#FFE500\", \"#FFE500\", \"#FFE500\", \"#FFE500\", \"#00007F\", \"#FFE500\", \"#FFE500\", \"#FFE500\", \"#FFE500\", \"#FFE500\", \"#FFE500\", \"#FFE500\", \"#FFE500\", \"#FFE500\", \"#00007F\", \"#FFE500\", \"#00007F\", \"#00007F\", \"#00007F\", \"#00007F\", \"#FFE500\", \"#00007F\", \"#00007F\", \"#00007F\", \"#00D4FF\", \"#00007F\", \"#00007F\", \"#00007F\", \"#00007F\", \"#00D4FF\", \"#00D4FF\", \"#00D4FF\", \"#00D4FF\", \"#00D4FF\", \"#00D4FF\", \"#00D4FF\", \"#00D4FF\", \"#00D4FF\", \"#00D4FF\", \"#00007F\", \"#00D4FF\"]}], \"xscale\": \"linear\", \"bbox\": [0.125, 0.125, 0.77500000000000002, 0.77500000000000002]}], \"height\": 288.0, \"width\": 432.0, \"plugins\": [{\"type\": \"reset\"}, {\"enabled\": false, \"button\": true, \"type\": \"zoom\"}, {\"enabled\": false, \"button\": true, \"type\": \"boxzoom\"}, {\"voffset\": 10, \"labels\": [\"1789\", \"1793\", \"1797\", \"1801\", \"1805\", \"1809\", \"1813\", \"1817\", \"1821\", \"1825\", \"1829\", \"1833\", \"1837\", \"1841\", \"1845\", \"1849\", \"1853\", \"1857\", \"1861\", \"1865\", \"1869\", \"1873\", \"1877\", \"1881\", \"1885\", \"1889\", \"1893\", \"1897\", \"1901\", \"1905\", \"1909\", \"1913\", \"1917\", \"1921\", \"1925\", \"1929\", \"1933\", \"1937\", \"1941\", \"1945\", \"1949\", \"1953\", \"1957\", \"1961\", \"1965\", \"1969\", \"1973\", \"1977\", \"1981\", \"1985\", \"1989\", \"1993\", \"1997\", \"2001\", \"2005\", \"2009\"], \"hoffset\": 0, \"location\": \"mouse\", \"type\": \"tooltip\", \"id\": \"el257147495597584\"}], \"data\": {\"data01\": [[-0.18683724570353075, 0.1205989981140788], [-0.05314218321239494, 0.8668145955042765], [-0.14726579483333604, -0.023208300969031655], [-0.10683807859183377, -0.006469966721535217], [-0.10331116121899855, 0.0041122489977982925], [-0.17367271990993927, 0.03943343782128653], [-0.10489455202622287, 0.035517549688518474], [-0.16405114462450585, -0.06577294487568264], [-0.18819290693530838, -0.040358847074123426], [-0.2401027911816141, -0.04264578920138361], [-0.1670498886502343, 0.040723837763666774], [-0.16726121599622099, 0.017161971220466303], [-0.11722165076376061, -0.052763701277322064], [-0.2679791696858322, -0.04290194943478397], [-0.20885655386289956, -0.07033765248097283], [-0.1909815670792606, 0.06890991927840147], [-0.13635412856577214, -0.05309730501283112], [-0.1808063941003014, -0.026528899589086923], [-0.15275076491891218, 0.021353328368448447], [0.005363585091994614, 0.2707099338776349], [-0.10015869875749182, 0.1414829406442989], [-0.13393518011775488, 0.05603251459919166], [-0.2225701445977632, -0.034068369329739945], [-0.21694454369053398, -0.051543719532712994], [-0.1795738622322961, -0.056297206711716466], [-0.1422402862108385, -0.09022822980037495], [-0.10414168597430104, -0.05557332741829719], [-0.18263192527421152, -0.07662133708026365], [-0.13086188742626742, -0.04710125361110143], [0.15890371109949558, 0.0015065738026069826], [-0.1867051633168403, -0.07011720825533466], [0.07135441777084148, -0.043656850779384], [0.1075808799052882, -0.05290932620620747], [0.10098191128320042, -0.09620916921183988], [0.0054911641194545875, -0.11048711804346002], [-0.09705071124871285, -0.09400724633895134], [-0.005963800664714186, -0.021002349914949817], [0.11437395823877805, -0.024482504142753554], [0.045931932603501036, -0.026910677270381163], [0.34444419106147395, 0.20821457529212037], [0.1309808666186681, -0.06887198273764673], [0.08355336318134242, -0.08397884807305123], [0.1322625104943259, -0.056879548654159416], [0.17637749701367023, 0.05613308483812196], [0.26189182973389735, -0.009715596385826574], [0.20461169897297568, 0.004076929904004388], [0.30960248191173445, 0.04669898376777688], [0.37647747018832084, 0.045403259121380046], [0.2210180171629284, -0.05672196073909904], [0.25729674423489485, -0.07670451244410435], [0.30031343749007144, -0.036683850784049], [0.35371547135430725, -0.008601825948750454], [0.23587715113267096, -0.07503622341352077], [0.3886941808581258, -0.02298772614887878], [0.11297052498818258, -0.08081438153208137], [0.2602788048624604, -0.09258697545868841]]}, \"id\": \"el257146321115600\"});\n",
       "            })\n",
       "         });\n",
       "}\n",
       "</script>"
      ],
      "text/plain": [
       "<IPython.core.display.HTML object>"
      ]
     },
     "execution_count": 90,
     "metadata": {},
     "output_type": "execute_result"
    }
   ],
   "source": [
    "# Running vizualisation \n",
    "\n",
    "import matplotlib as mpl\n",
    "import matplotlib.pyplot as plt\n",
    "import mpld3\n",
    "mpld3.enable_notebook()\n",
    "\n",
    "\n",
    "fig, ax = plt.subplots(subplot_kw=dict(axisbg='#EEEEEE'))\n",
    "N = 100\n",
    "\n",
    "y=[]\n",
    "x=[]\n",
    "for i in reduced_x:\n",
    "    y.append(i[1])\n",
    "    x.append(i[0])\n",
    "\n",
    "colors=np.asarray(data[\"clusters\"])\n",
    "scatter = ax.scatter(x,\n",
    "                     y,\n",
    "                     c=colors,\n",
    "                     alpha=0.3,\n",
    "                     s=50,\n",
    "                     cmap=plt.cm.jet)\n",
    "ax.grid(color='white', linestyle='solid')\n",
    "\n",
    "ax.set_title(\"Scatter Plot (with tooltips!)\", size=20)\n",
    "\n",
    "labels = np.ndarray.tolist(np.asarray(data[\"year\"]))\n",
    "tooltip = mpld3.plugins.PointLabelTooltip(scatter, labels=labels)\n",
    "mpld3.plugins.connect(fig, tooltip)\n",
    "\n",
    "\n",
    "mpld3.display()\n"
   ]
  },
  {
   "cell_type": "code",
   "execution_count": 98,
   "metadata": {
    "collapsed": false,
    "scrolled": false
   },
   "outputs": [
    {
     "data": {
      "text/html": [
       "\n",
       "\n",
       "<style>\n",
       "\n",
       "</style>\n",
       "\n",
       "<div id=\"fig_el2571484503158565629077502\"></div>\n",
       "<script>\n",
       "function mpld3_load_lib(url, callback){\n",
       "  var s = document.createElement('script');\n",
       "  s.src = url;\n",
       "  s.async = true;\n",
       "  s.onreadystatechange = s.onload = callback;\n",
       "  s.onerror = function(){console.warn(\"failed to load library \" + url);};\n",
       "  document.getElementsByTagName(\"head\")[0].appendChild(s);\n",
       "}\n",
       "\n",
       "if(typeof(mpld3) !== \"undefined\" && mpld3._mpld3IsLoaded){\n",
       "   // already loaded: just create the figure\n",
       "   !function(mpld3){\n",
       "       \n",
       "       mpld3.draw_figure(\"fig_el2571484503158565629077502\", {\"axes\": [{\"xlim\": [-0.40000000000000002, 0.5], \"yscale\": \"linear\", \"axesbg\": \"#EEEEEE\", \"texts\": [{\"v_baseline\": \"auto\", \"h_anchor\": \"middle\", \"color\": \"#000000\", \"text\": \"Scatter Plot (with tooltips!)\", \"coordinates\": \"axes\", \"zorder\": 3, \"alpha\": 1, \"fontsize\": 20.0, \"position\": [0.49999999999999994, 1.0224014336917562], \"rotation\": -0.0, \"id\": \"el257146249543824\"}], \"zoomable\": true, \"images\": [], \"xdomain\": [-0.40000000000000002, 0.5], \"ylim\": [-0.20000000000000001, 1.0000000000000002], \"paths\": [], \"sharey\": [], \"sharex\": [], \"axesbgalpha\": null, \"axes\": [{\"scale\": \"linear\", \"tickformat\": null, \"grid\": {\"color\": \"#FFFFFF\", \"alpha\": 1.0, \"dasharray\": \"10,0\", \"gridOn\": true}, \"fontsize\": 10.0, \"position\": \"bottom\", \"nticks\": 10, \"tickvalues\": null}, {\"scale\": \"linear\", \"tickformat\": null, \"grid\": {\"color\": \"#FFFFFF\", \"alpha\": 1.0, \"dasharray\": \"10,0\", \"gridOn\": true}, \"fontsize\": 10.0, \"position\": \"left\", \"nticks\": 8, \"tickvalues\": null}], \"lines\": [], \"markers\": [], \"id\": \"el257144828863248\", \"ydomain\": [-0.20000000000000001, 1.0000000000000002], \"collections\": [{\"paths\": [[[[0.0, -0.5], [0.13260155, -0.5], [0.25978993539242673, -0.44731684579412084], [0.3535533905932738, -0.3535533905932738], [0.44731684579412084, -0.25978993539242673], [0.5, -0.13260155], [0.5, 0.0], [0.5, 0.13260155], [0.44731684579412084, 0.25978993539242673], [0.3535533905932738, 0.3535533905932738], [0.25978993539242673, 0.44731684579412084], [0.13260155, 0.5], [0.0, 0.5], [-0.13260155, 0.5], [-0.25978993539242673, 0.44731684579412084], [-0.3535533905932738, 0.3535533905932738], [-0.44731684579412084, 0.25978993539242673], [-0.5, 0.13260155], [-0.5, 0.0], [-0.5, -0.13260155], [-0.44731684579412084, -0.25978993539242673], [-0.3535533905932738, -0.3535533905932738], [-0.25978993539242673, -0.44731684579412084], [-0.13260155, -0.5], [0.0, -0.5]], [\"M\", \"C\", \"C\", \"C\", \"C\", \"C\", \"C\", \"C\", \"C\", \"Z\"]]], \"edgecolors\": [\"#000000\"], \"edgewidths\": [1.0], \"offsets\": \"data01\", \"yindex\": 1, \"id\": \"el257146429492880\", \"pathtransforms\": [[7.0710678118654755, 0.0, 0.0, 7.0710678118654755, 0.0, 0.0]], \"pathcoordinates\": \"display\", \"offsetcoordinates\": \"data\", \"zorder\": 1, \"xindex\": 0, \"alphas\": [0.3], \"facecolors\": [\"#FFE500\", \"#7F0000\", \"#FFE500\", \"#FFE500\", \"#FFE500\", \"#FFE500\", \"#FFE500\", \"#FFE500\", \"#FFE500\", \"#FFE500\", \"#FFE500\", \"#FFE500\", \"#FFE500\", \"#FFE500\", \"#FFE500\", \"#FFE500\", \"#FFE500\", \"#FFE500\", \"#FFE500\", \"#00007F\", \"#FFE500\", \"#FFE500\", \"#FFE500\", \"#FFE500\", \"#FFE500\", \"#FFE500\", \"#FFE500\", \"#FFE500\", \"#FFE500\", \"#00007F\", \"#FFE500\", \"#00007F\", \"#00007F\", \"#00007F\", \"#00007F\", \"#FFE500\", \"#00007F\", \"#00007F\", \"#00007F\", \"#00D4FF\", \"#00007F\", \"#00007F\", \"#00007F\", \"#00007F\", \"#00D4FF\", \"#00D4FF\", \"#00D4FF\", \"#00D4FF\", \"#00D4FF\", \"#00D4FF\", \"#00D4FF\", \"#00D4FF\", \"#00D4FF\", \"#00D4FF\", \"#00007F\", \"#00D4FF\"]}], \"xscale\": \"linear\", \"bbox\": [0.125, 0.125, 0.77500000000000002, 0.77500000000000002]}], \"height\": 288.0, \"width\": 432.0, \"plugins\": [{\"type\": \"reset\"}, {\"enabled\": false, \"button\": true, \"type\": \"zoom\"}, {\"enabled\": false, \"button\": true, \"type\": \"boxzoom\"}, {\"voffset\": 10, \"labels\": [\"1789\", \"1793\", \"1797\", \"1801\", \"1805\", \"1809\", \"1813\", \"1817\", \"1821\", \"1825\", \"1829\", \"1833\", \"1837\", \"1841\", \"1845\", \"1849\", \"1853\", \"1857\", \"1861\", \"1865\", \"1869\", \"1873\", \"1877\", \"1881\", \"1885\", \"1889\", \"1893\", \"1897\", \"1901\", \"1905\", \"1909\", \"1913\", \"1917\", \"1921\", \"1925\", \"1929\", \"1933\", \"1937\", \"1941\", \"1945\", \"1949\", \"1953\", \"1957\", \"1961\", \"1965\", \"1969\", \"1973\", \"1977\", \"1981\", \"1985\", \"1989\", \"1993\", \"1997\", \"2001\", \"2005\", \"2009\"], \"hoffset\": 0, \"location\": \"mouse\", \"type\": \"tooltip\", \"id\": \"el257146429492880\"}], \"data\": {\"data01\": [[-0.18683724570353075, 0.1205989981140788], [-0.05314218321239494, 0.8668145955042765], [-0.14726579483333604, -0.023208300969031655], [-0.10683807859183377, -0.006469966721535217], [-0.10331116121899855, 0.0041122489977982925], [-0.17367271990993927, 0.03943343782128653], [-0.10489455202622287, 0.035517549688518474], [-0.16405114462450585, -0.06577294487568264], [-0.18819290693530838, -0.040358847074123426], [-0.2401027911816141, -0.04264578920138361], [-0.1670498886502343, 0.040723837763666774], [-0.16726121599622099, 0.017161971220466303], [-0.11722165076376061, -0.052763701277322064], [-0.2679791696858322, -0.04290194943478397], [-0.20885655386289956, -0.07033765248097283], [-0.1909815670792606, 0.06890991927840147], [-0.13635412856577214, -0.05309730501283112], [-0.1808063941003014, -0.026528899589086923], [-0.15275076491891218, 0.021353328368448447], [0.005363585091994614, 0.2707099338776349], [-0.10015869875749182, 0.1414829406442989], [-0.13393518011775488, 0.05603251459919166], [-0.2225701445977632, -0.034068369329739945], [-0.21694454369053398, -0.051543719532712994], [-0.1795738622322961, -0.056297206711716466], [-0.1422402862108385, -0.09022822980037495], [-0.10414168597430104, -0.05557332741829719], [-0.18263192527421152, -0.07662133708026365], [-0.13086188742626742, -0.04710125361110143], [0.15890371109949558, 0.0015065738026069826], [-0.1867051633168403, -0.07011720825533466], [0.07135441777084148, -0.043656850779384], [0.1075808799052882, -0.05290932620620747], [0.10098191128320042, -0.09620916921183988], [0.0054911641194545875, -0.11048711804346002], [-0.09705071124871285, -0.09400724633895134], [-0.005963800664714186, -0.021002349914949817], [0.11437395823877805, -0.024482504142753554], [0.045931932603501036, -0.026910677270381163], [0.34444419106147395, 0.20821457529212037], [0.1309808666186681, -0.06887198273764673], [0.08355336318134242, -0.08397884807305123], [0.1322625104943259, -0.056879548654159416], [0.17637749701367023, 0.05613308483812196], [0.26189182973389735, -0.009715596385826574], [0.20461169897297568, 0.004076929904004388], [0.30960248191173445, 0.04669898376777688], [0.37647747018832084, 0.045403259121380046], [0.2210180171629284, -0.05672196073909904], [0.25729674423489485, -0.07670451244410435], [0.30031343749007144, -0.036683850784049], [0.35371547135430725, -0.008601825948750454], [0.23587715113267096, -0.07503622341352077], [0.3886941808581258, -0.02298772614887878], [0.11297052498818258, -0.08081438153208137], [0.2602788048624604, -0.09258697545868841]]}, \"id\": \"el257148450315856\"});\n",
       "   }(mpld3);\n",
       "}else if(typeof define === \"function\" && define.amd){\n",
       "   // require.js is available: use it to load d3/mpld3\n",
       "   require.config({paths: {d3: \"https://mpld3.github.io/js/d3.v3.min\"}});\n",
       "   require([\"d3\"], function(d3){\n",
       "      window.d3 = d3;\n",
       "      mpld3_load_lib(\"https://mpld3.github.io/js/mpld3.v0.2.js\", function(){\n",
       "         \n",
       "         mpld3.draw_figure(\"fig_el2571484503158565629077502\", {\"axes\": [{\"xlim\": [-0.40000000000000002, 0.5], \"yscale\": \"linear\", \"axesbg\": \"#EEEEEE\", \"texts\": [{\"v_baseline\": \"auto\", \"h_anchor\": \"middle\", \"color\": \"#000000\", \"text\": \"Scatter Plot (with tooltips!)\", \"coordinates\": \"axes\", \"zorder\": 3, \"alpha\": 1, \"fontsize\": 20.0, \"position\": [0.49999999999999994, 1.0224014336917562], \"rotation\": -0.0, \"id\": \"el257146249543824\"}], \"zoomable\": true, \"images\": [], \"xdomain\": [-0.40000000000000002, 0.5], \"ylim\": [-0.20000000000000001, 1.0000000000000002], \"paths\": [], \"sharey\": [], \"sharex\": [], \"axesbgalpha\": null, \"axes\": [{\"scale\": \"linear\", \"tickformat\": null, \"grid\": {\"color\": \"#FFFFFF\", \"alpha\": 1.0, \"dasharray\": \"10,0\", \"gridOn\": true}, \"fontsize\": 10.0, \"position\": \"bottom\", \"nticks\": 10, \"tickvalues\": null}, {\"scale\": \"linear\", \"tickformat\": null, \"grid\": {\"color\": \"#FFFFFF\", \"alpha\": 1.0, \"dasharray\": \"10,0\", \"gridOn\": true}, \"fontsize\": 10.0, \"position\": \"left\", \"nticks\": 8, \"tickvalues\": null}], \"lines\": [], \"markers\": [], \"id\": \"el257144828863248\", \"ydomain\": [-0.20000000000000001, 1.0000000000000002], \"collections\": [{\"paths\": [[[[0.0, -0.5], [0.13260155, -0.5], [0.25978993539242673, -0.44731684579412084], [0.3535533905932738, -0.3535533905932738], [0.44731684579412084, -0.25978993539242673], [0.5, -0.13260155], [0.5, 0.0], [0.5, 0.13260155], [0.44731684579412084, 0.25978993539242673], [0.3535533905932738, 0.3535533905932738], [0.25978993539242673, 0.44731684579412084], [0.13260155, 0.5], [0.0, 0.5], [-0.13260155, 0.5], [-0.25978993539242673, 0.44731684579412084], [-0.3535533905932738, 0.3535533905932738], [-0.44731684579412084, 0.25978993539242673], [-0.5, 0.13260155], [-0.5, 0.0], [-0.5, -0.13260155], [-0.44731684579412084, -0.25978993539242673], [-0.3535533905932738, -0.3535533905932738], [-0.25978993539242673, -0.44731684579412084], [-0.13260155, -0.5], [0.0, -0.5]], [\"M\", \"C\", \"C\", \"C\", \"C\", \"C\", \"C\", \"C\", \"C\", \"Z\"]]], \"edgecolors\": [\"#000000\"], \"edgewidths\": [1.0], \"offsets\": \"data01\", \"yindex\": 1, \"id\": \"el257146429492880\", \"pathtransforms\": [[7.0710678118654755, 0.0, 0.0, 7.0710678118654755, 0.0, 0.0]], \"pathcoordinates\": \"display\", \"offsetcoordinates\": \"data\", \"zorder\": 1, \"xindex\": 0, \"alphas\": [0.3], \"facecolors\": [\"#FFE500\", \"#7F0000\", \"#FFE500\", \"#FFE500\", \"#FFE500\", \"#FFE500\", \"#FFE500\", \"#FFE500\", \"#FFE500\", \"#FFE500\", \"#FFE500\", \"#FFE500\", \"#FFE500\", \"#FFE500\", \"#FFE500\", \"#FFE500\", \"#FFE500\", \"#FFE500\", \"#FFE500\", \"#00007F\", \"#FFE500\", \"#FFE500\", \"#FFE500\", \"#FFE500\", \"#FFE500\", \"#FFE500\", \"#FFE500\", \"#FFE500\", \"#FFE500\", \"#00007F\", \"#FFE500\", \"#00007F\", \"#00007F\", \"#00007F\", \"#00007F\", \"#FFE500\", \"#00007F\", \"#00007F\", \"#00007F\", \"#00D4FF\", \"#00007F\", \"#00007F\", \"#00007F\", \"#00007F\", \"#00D4FF\", \"#00D4FF\", \"#00D4FF\", \"#00D4FF\", \"#00D4FF\", \"#00D4FF\", \"#00D4FF\", \"#00D4FF\", \"#00D4FF\", \"#00D4FF\", \"#00007F\", \"#00D4FF\"]}], \"xscale\": \"linear\", \"bbox\": [0.125, 0.125, 0.77500000000000002, 0.77500000000000002]}], \"height\": 288.0, \"width\": 432.0, \"plugins\": [{\"type\": \"reset\"}, {\"enabled\": false, \"button\": true, \"type\": \"zoom\"}, {\"enabled\": false, \"button\": true, \"type\": \"boxzoom\"}, {\"voffset\": 10, \"labels\": [\"1789\", \"1793\", \"1797\", \"1801\", \"1805\", \"1809\", \"1813\", \"1817\", \"1821\", \"1825\", \"1829\", \"1833\", \"1837\", \"1841\", \"1845\", \"1849\", \"1853\", \"1857\", \"1861\", \"1865\", \"1869\", \"1873\", \"1877\", \"1881\", \"1885\", \"1889\", \"1893\", \"1897\", \"1901\", \"1905\", \"1909\", \"1913\", \"1917\", \"1921\", \"1925\", \"1929\", \"1933\", \"1937\", \"1941\", \"1945\", \"1949\", \"1953\", \"1957\", \"1961\", \"1965\", \"1969\", \"1973\", \"1977\", \"1981\", \"1985\", \"1989\", \"1993\", \"1997\", \"2001\", \"2005\", \"2009\"], \"hoffset\": 0, \"location\": \"mouse\", \"type\": \"tooltip\", \"id\": \"el257146429492880\"}], \"data\": {\"data01\": [[-0.18683724570353075, 0.1205989981140788], [-0.05314218321239494, 0.8668145955042765], [-0.14726579483333604, -0.023208300969031655], [-0.10683807859183377, -0.006469966721535217], [-0.10331116121899855, 0.0041122489977982925], [-0.17367271990993927, 0.03943343782128653], [-0.10489455202622287, 0.035517549688518474], [-0.16405114462450585, -0.06577294487568264], [-0.18819290693530838, -0.040358847074123426], [-0.2401027911816141, -0.04264578920138361], [-0.1670498886502343, 0.040723837763666774], [-0.16726121599622099, 0.017161971220466303], [-0.11722165076376061, -0.052763701277322064], [-0.2679791696858322, -0.04290194943478397], [-0.20885655386289956, -0.07033765248097283], [-0.1909815670792606, 0.06890991927840147], [-0.13635412856577214, -0.05309730501283112], [-0.1808063941003014, -0.026528899589086923], [-0.15275076491891218, 0.021353328368448447], [0.005363585091994614, 0.2707099338776349], [-0.10015869875749182, 0.1414829406442989], [-0.13393518011775488, 0.05603251459919166], [-0.2225701445977632, -0.034068369329739945], [-0.21694454369053398, -0.051543719532712994], [-0.1795738622322961, -0.056297206711716466], [-0.1422402862108385, -0.09022822980037495], [-0.10414168597430104, -0.05557332741829719], [-0.18263192527421152, -0.07662133708026365], [-0.13086188742626742, -0.04710125361110143], [0.15890371109949558, 0.0015065738026069826], [-0.1867051633168403, -0.07011720825533466], [0.07135441777084148, -0.043656850779384], [0.1075808799052882, -0.05290932620620747], [0.10098191128320042, -0.09620916921183988], [0.0054911641194545875, -0.11048711804346002], [-0.09705071124871285, -0.09400724633895134], [-0.005963800664714186, -0.021002349914949817], [0.11437395823877805, -0.024482504142753554], [0.045931932603501036, -0.026910677270381163], [0.34444419106147395, 0.20821457529212037], [0.1309808666186681, -0.06887198273764673], [0.08355336318134242, -0.08397884807305123], [0.1322625104943259, -0.056879548654159416], [0.17637749701367023, 0.05613308483812196], [0.26189182973389735, -0.009715596385826574], [0.20461169897297568, 0.004076929904004388], [0.30960248191173445, 0.04669898376777688], [0.37647747018832084, 0.045403259121380046], [0.2210180171629284, -0.05672196073909904], [0.25729674423489485, -0.07670451244410435], [0.30031343749007144, -0.036683850784049], [0.35371547135430725, -0.008601825948750454], [0.23587715113267096, -0.07503622341352077], [0.3886941808581258, -0.02298772614887878], [0.11297052498818258, -0.08081438153208137], [0.2602788048624604, -0.09258697545868841]]}, \"id\": \"el257148450315856\"});\n",
       "      });\n",
       "    });\n",
       "}else{\n",
       "    // require.js not available: dynamically load d3 & mpld3\n",
       "    mpld3_load_lib(\"https://mpld3.github.io/js/d3.v3.min.js\", function(){\n",
       "         mpld3_load_lib(\"https://mpld3.github.io/js/mpld3.v0.2.js\", function(){\n",
       "                 \n",
       "                 mpld3.draw_figure(\"fig_el2571484503158565629077502\", {\"axes\": [{\"xlim\": [-0.40000000000000002, 0.5], \"yscale\": \"linear\", \"axesbg\": \"#EEEEEE\", \"texts\": [{\"v_baseline\": \"auto\", \"h_anchor\": \"middle\", \"color\": \"#000000\", \"text\": \"Scatter Plot (with tooltips!)\", \"coordinates\": \"axes\", \"zorder\": 3, \"alpha\": 1, \"fontsize\": 20.0, \"position\": [0.49999999999999994, 1.0224014336917562], \"rotation\": -0.0, \"id\": \"el257146249543824\"}], \"zoomable\": true, \"images\": [], \"xdomain\": [-0.40000000000000002, 0.5], \"ylim\": [-0.20000000000000001, 1.0000000000000002], \"paths\": [], \"sharey\": [], \"sharex\": [], \"axesbgalpha\": null, \"axes\": [{\"scale\": \"linear\", \"tickformat\": null, \"grid\": {\"color\": \"#FFFFFF\", \"alpha\": 1.0, \"dasharray\": \"10,0\", \"gridOn\": true}, \"fontsize\": 10.0, \"position\": \"bottom\", \"nticks\": 10, \"tickvalues\": null}, {\"scale\": \"linear\", \"tickformat\": null, \"grid\": {\"color\": \"#FFFFFF\", \"alpha\": 1.0, \"dasharray\": \"10,0\", \"gridOn\": true}, \"fontsize\": 10.0, \"position\": \"left\", \"nticks\": 8, \"tickvalues\": null}], \"lines\": [], \"markers\": [], \"id\": \"el257144828863248\", \"ydomain\": [-0.20000000000000001, 1.0000000000000002], \"collections\": [{\"paths\": [[[[0.0, -0.5], [0.13260155, -0.5], [0.25978993539242673, -0.44731684579412084], [0.3535533905932738, -0.3535533905932738], [0.44731684579412084, -0.25978993539242673], [0.5, -0.13260155], [0.5, 0.0], [0.5, 0.13260155], [0.44731684579412084, 0.25978993539242673], [0.3535533905932738, 0.3535533905932738], [0.25978993539242673, 0.44731684579412084], [0.13260155, 0.5], [0.0, 0.5], [-0.13260155, 0.5], [-0.25978993539242673, 0.44731684579412084], [-0.3535533905932738, 0.3535533905932738], [-0.44731684579412084, 0.25978993539242673], [-0.5, 0.13260155], [-0.5, 0.0], [-0.5, -0.13260155], [-0.44731684579412084, -0.25978993539242673], [-0.3535533905932738, -0.3535533905932738], [-0.25978993539242673, -0.44731684579412084], [-0.13260155, -0.5], [0.0, -0.5]], [\"M\", \"C\", \"C\", \"C\", \"C\", \"C\", \"C\", \"C\", \"C\", \"Z\"]]], \"edgecolors\": [\"#000000\"], \"edgewidths\": [1.0], \"offsets\": \"data01\", \"yindex\": 1, \"id\": \"el257146429492880\", \"pathtransforms\": [[7.0710678118654755, 0.0, 0.0, 7.0710678118654755, 0.0, 0.0]], \"pathcoordinates\": \"display\", \"offsetcoordinates\": \"data\", \"zorder\": 1, \"xindex\": 0, \"alphas\": [0.3], \"facecolors\": [\"#FFE500\", \"#7F0000\", \"#FFE500\", \"#FFE500\", \"#FFE500\", \"#FFE500\", \"#FFE500\", \"#FFE500\", \"#FFE500\", \"#FFE500\", \"#FFE500\", \"#FFE500\", \"#FFE500\", \"#FFE500\", \"#FFE500\", \"#FFE500\", \"#FFE500\", \"#FFE500\", \"#FFE500\", \"#00007F\", \"#FFE500\", \"#FFE500\", \"#FFE500\", \"#FFE500\", \"#FFE500\", \"#FFE500\", \"#FFE500\", \"#FFE500\", \"#FFE500\", \"#00007F\", \"#FFE500\", \"#00007F\", \"#00007F\", \"#00007F\", \"#00007F\", \"#FFE500\", \"#00007F\", \"#00007F\", \"#00007F\", \"#00D4FF\", \"#00007F\", \"#00007F\", \"#00007F\", \"#00007F\", \"#00D4FF\", \"#00D4FF\", \"#00D4FF\", \"#00D4FF\", \"#00D4FF\", \"#00D4FF\", \"#00D4FF\", \"#00D4FF\", \"#00D4FF\", \"#00D4FF\", \"#00007F\", \"#00D4FF\"]}], \"xscale\": \"linear\", \"bbox\": [0.125, 0.125, 0.77500000000000002, 0.77500000000000002]}], \"height\": 288.0, \"width\": 432.0, \"plugins\": [{\"type\": \"reset\"}, {\"enabled\": false, \"button\": true, \"type\": \"zoom\"}, {\"enabled\": false, \"button\": true, \"type\": \"boxzoom\"}, {\"voffset\": 10, \"labels\": [\"1789\", \"1793\", \"1797\", \"1801\", \"1805\", \"1809\", \"1813\", \"1817\", \"1821\", \"1825\", \"1829\", \"1833\", \"1837\", \"1841\", \"1845\", \"1849\", \"1853\", \"1857\", \"1861\", \"1865\", \"1869\", \"1873\", \"1877\", \"1881\", \"1885\", \"1889\", \"1893\", \"1897\", \"1901\", \"1905\", \"1909\", \"1913\", \"1917\", \"1921\", \"1925\", \"1929\", \"1933\", \"1937\", \"1941\", \"1945\", \"1949\", \"1953\", \"1957\", \"1961\", \"1965\", \"1969\", \"1973\", \"1977\", \"1981\", \"1985\", \"1989\", \"1993\", \"1997\", \"2001\", \"2005\", \"2009\"], \"hoffset\": 0, \"location\": \"mouse\", \"type\": \"tooltip\", \"id\": \"el257146429492880\"}], \"data\": {\"data01\": [[-0.18683724570353075, 0.1205989981140788], [-0.05314218321239494, 0.8668145955042765], [-0.14726579483333604, -0.023208300969031655], [-0.10683807859183377, -0.006469966721535217], [-0.10331116121899855, 0.0041122489977982925], [-0.17367271990993927, 0.03943343782128653], [-0.10489455202622287, 0.035517549688518474], [-0.16405114462450585, -0.06577294487568264], [-0.18819290693530838, -0.040358847074123426], [-0.2401027911816141, -0.04264578920138361], [-0.1670498886502343, 0.040723837763666774], [-0.16726121599622099, 0.017161971220466303], [-0.11722165076376061, -0.052763701277322064], [-0.2679791696858322, -0.04290194943478397], [-0.20885655386289956, -0.07033765248097283], [-0.1909815670792606, 0.06890991927840147], [-0.13635412856577214, -0.05309730501283112], [-0.1808063941003014, -0.026528899589086923], [-0.15275076491891218, 0.021353328368448447], [0.005363585091994614, 0.2707099338776349], [-0.10015869875749182, 0.1414829406442989], [-0.13393518011775488, 0.05603251459919166], [-0.2225701445977632, -0.034068369329739945], [-0.21694454369053398, -0.051543719532712994], [-0.1795738622322961, -0.056297206711716466], [-0.1422402862108385, -0.09022822980037495], [-0.10414168597430104, -0.05557332741829719], [-0.18263192527421152, -0.07662133708026365], [-0.13086188742626742, -0.04710125361110143], [0.15890371109949558, 0.0015065738026069826], [-0.1867051633168403, -0.07011720825533466], [0.07135441777084148, -0.043656850779384], [0.1075808799052882, -0.05290932620620747], [0.10098191128320042, -0.09620916921183988], [0.0054911641194545875, -0.11048711804346002], [-0.09705071124871285, -0.09400724633895134], [-0.005963800664714186, -0.021002349914949817], [0.11437395823877805, -0.024482504142753554], [0.045931932603501036, -0.026910677270381163], [0.34444419106147395, 0.20821457529212037], [0.1309808666186681, -0.06887198273764673], [0.08355336318134242, -0.08397884807305123], [0.1322625104943259, -0.056879548654159416], [0.17637749701367023, 0.05613308483812196], [0.26189182973389735, -0.009715596385826574], [0.20461169897297568, 0.004076929904004388], [0.30960248191173445, 0.04669898376777688], [0.37647747018832084, 0.045403259121380046], [0.2210180171629284, -0.05672196073909904], [0.25729674423489485, -0.07670451244410435], [0.30031343749007144, -0.036683850784049], [0.35371547135430725, -0.008601825948750454], [0.23587715113267096, -0.07503622341352077], [0.3886941808581258, -0.02298772614887878], [0.11297052498818258, -0.08081438153208137], [0.2602788048624604, -0.09258697545868841]]}, \"id\": \"el257148450315856\"});\n",
       "            })\n",
       "         });\n",
       "}\n",
       "</script>"
      ],
      "text/plain": [
       "<IPython.core.display.HTML object>"
      ]
     },
     "execution_count": 98,
     "metadata": {},
     "output_type": "execute_result"
    }
   ],
   "source": [
    "# Running visualisation : coloring based on year and it can be observed\n",
    "# That the points from left to right are temporally sequential \n",
    "\n",
    "colors=np.asarray(data[\"year\"])\n",
    "scatter = ax.scatter(x,\n",
    "                     y,\n",
    "                     c=colors,\n",
    "                     alpha=0.3,\n",
    "                     s=50,\n",
    "                     cmap=plt.cm.jet)\n",
    "ax.grid(color='white', linestyle='solid')\n",
    "\n",
    "ax.set_title(\"Scatter Plot (with tooltips!)\", size=20)\n",
    "\n",
    "labels = np.ndarray.tolist(np.asarray(data[\"year\"]))\n",
    "tooltip = mpld3.plugins.PointLabelTooltip(scatter, labels=labels)\n",
    "mpld3.plugins.connect(fig, tooltip)\n",
    "\n",
    "\n",
    "mpld3.display()\n",
    "\n"
   ]
  },
  {
   "cell_type": "markdown",
   "metadata": {},
   "source": [
    "## Part2 : Word2vec\n",
    "\n",
    "* In this part I used pretrained word2vec trianed by Google. I further compared a word between word2vec similarity i.e the words embedded near a given noun/adjective/verb and the a given noun/adjective/verb's synset (cognitive similarity). \n",
    "\n",
    "The observations are given below "
   ]
  },
  {
   "cell_type": "code",
   "execution_count": 78,
   "metadata": {
    "collapsed": false
   },
   "outputs": [],
   "source": [
    "import gensim\n",
    "from gensim.models import Word2Vec\n",
    "from nltk.data import find\n",
    "from nltk.corpus import reuters\n"
   ]
  },
  {
   "cell_type": "code",
   "execution_count": 198,
   "metadata": {
    "collapsed": false
   },
   "outputs": [],
   "source": [
    "#word2vec_sample = str(find('models/word2vec_sample.word2vec.txt'))\n",
    "#text = word_tokenize(reuters.words())\n",
    "#model = model = gensim.models.Word2Vec.load_word2vec_format('GoogleNews-vectors-negative300.bin', binary=True)  \n"
   ]
  },
  {
   "cell_type": "code",
   "execution_count": 199,
   "metadata": {
    "collapsed": true
   },
   "outputs": [],
   "source": [
    "#model.save(\"google_embed\")\n"
   ]
  },
  {
   "cell_type": "code",
   "execution_count": 79,
   "metadata": {
    "collapsed": true
   },
   "outputs": [],
   "source": [
    "#Loading up the trained model \n",
    "new_model = gensim.models.Word2Vec.load('google_embed')"
   ]
  },
  {
   "cell_type": "code",
   "execution_count": 80,
   "metadata": {
    "collapsed": false
   },
   "outputs": [],
   "source": [
    "# Tokenizing and POS tagging of words\n",
    "text = word_tokenize(inaugural.raw())"
   ]
  },
  {
   "cell_type": "code",
   "execution_count": 81,
   "metadata": {
    "collapsed": true
   },
   "outputs": [],
   "source": [
    "tagged_words=nltk.pos_tag(text)"
   ]
  },
  {
   "cell_type": "code",
   "execution_count": 82,
   "metadata": {
    "collapsed": false
   },
   "outputs": [
    {
     "data": {
      "text/plain": [
       "[(u'Fellow-Citizens', 'NNS'),\n",
       " (u'of', 'IN'),\n",
       " (u'the', 'DT'),\n",
       " (u'Senate', 'NNP'),\n",
       " (u'and', 'CC'),\n",
       " (u'of', 'IN'),\n",
       " (u'the', 'DT'),\n",
       " (u'House', 'NNP'),\n",
       " (u'of', 'IN'),\n",
       " (u'Representatives', 'NNPS')]"
      ]
     },
     "execution_count": 82,
     "metadata": {},
     "output_type": "execute_result"
    }
   ],
   "source": [
    "tagged_words[:10]"
   ]
  },
  {
   "cell_type": "code",
   "execution_count": 84,
   "metadata": {
    "collapsed": false
   },
   "outputs": [],
   "source": [
    "#Extracting and defining nouns , verbs and adjectives of interest\n",
    "\n",
    "Nouns=[]\n",
    "for i in tagged_words:\n",
    "    if i[1]==\"NNP\" and i[0] not in Nouns:\n",
    "        Nouns.append(i[0])\n",
    "\n",
    "Adj=[]\n",
    "for i in tagged_words:\n",
    "    if i[1]==\"JJ\" and i[0] not in Adj:\n",
    "        Adj.append(i[0])\n",
    "\n",
    "Verb=[]\n",
    "for i in tagged_words:\n",
    "    if i[1] in [\"VBD\", \"VB\", \"VBG\"]  and i[0] not in Verb:\n",
    "        Verb.append(i[0])\n",
    "        "
   ]
  },
  {
   "cell_type": "code",
   "execution_count": 85,
   "metadata": {
    "collapsed": true
   },
   "outputs": [],
   "source": [
    "Nouns_interest= [\"senate\", \"president\", \"governmnet\", \"magistrate\", \"constitution\"]\n",
    "Adj_interest=[\"immutable\", \"apprehensive\", \"durable\", \"universal\", \"soverign\" ]\n",
    "Verb_interest =[\"endure\", \"restrain\", \"regulate\", \"inheriting\", \"judge\" ]"
   ]
  },
  {
   "cell_type": "code",
   "execution_count": 97,
   "metadata": {
    "collapsed": false
   },
   "outputs": [
    {
     "name": "stdout",
     "output_type": "stream",
     "text": [
      "Noun of interest  \n",
      "senate\n",
      "   \n",
      " Word2vec similarity\n",
      "[(u'Senate', 0.7548928260803223), (u'legislature', 0.637714147567749), (u'Senates', 0.6302423477172852), (u'senates', 0.6061011552810669), (u'senators', 0.5849824547767639)]\n",
      "Wordnet synset\n",
      "[Synset('senate.n.01'), Synset('united_states_senate.n.01')]\n",
      " \n",
      "Noun of interest  \n",
      "president\n",
      "   \n",
      " Word2vec similarity\n",
      "[(u'President', 0.8006276488304138), (u'chairman', 0.6708744764328003), (u'vice_president', 0.6700226068496704), (u'chief_executive', 0.6691274642944336), (u'CEO', 0.6590126752853394)]\n",
      "Wordnet synset\n",
      "[Synset('president.n.01'), Synset('president_of_the_united_states.n.01'), Synset('president.n.03'), Synset('president.n.04'), Synset('president.n.05'), Synset('president_of_the_united_states.n.02')]\n",
      " \n",
      "Noun of interest  \n",
      "governmnet\n",
      "   \n",
      " Word2vec similarity\n",
      "[(u'governmet', 0.6096758246421814), (u'goverment', 0.6085272431373596), (u'governemnt', 0.6030837297439575), (u'government', 0.5923144817352295), (u'governement', 0.5695896148681641)]\n",
      "Wordnet synset\n",
      "[]\n",
      " \n",
      "Noun of interest  \n",
      "magistrate\n",
      "   \n",
      " Word2vec similarity\n",
      "[(u'Magistrate', 0.8218511343002319), (u'Magistrate_Court', 0.6849488019943237), (u'judge', 0.6548726558685303), (u'magistrates', 0.6471724510192871), (u'presiding_magistrate', 0.6395668387413025)]\n",
      "Wordnet synset\n",
      "[Synset('magistrate.n.01')]\n",
      " \n",
      "Noun of interest  \n",
      "constitution\n",
      "   \n",
      " Word2vec similarity\n",
      "[(u'Constitution', 0.7993643283843994), (u'consitution', 0.7791620492935181), (u'constitutional', 0.7356842756271362), (u'constitutions', 0.7170383334159851), (u'constitutional_amendments', 0.6457947492599487)]\n",
      "Wordnet synset\n",
      "[Synset('fundamental_law.n.01'), Synset('constitution.n.02'), Synset('united_states_constitution.n.01'), Synset('constitution.n.04'), Synset('constitution.n.05')]\n",
      " \n"
     ]
    }
   ],
   "source": [
    "\n",
    "for i in Nouns_interest:\n",
    "    print \"Noun of interest  \"\n",
    "    print i\n",
    "    print \"   \"\n",
    "    print \" Word2vec similarity\"\n",
    "    n_vec=new_model.most_similar(positive=i, topn = 5)\n",
    "    print n_vec\n",
    "    print \"Wordnet synset\"\n",
    "    n_syn=wn.synsets(i)\n",
    "    print  n_syn\n",
    "    print \" \"\n",
    "    \n",
    "\n",
    "\n",
    "\n",
    "#model.most_similar(positive=['Americans'], topn = 10)"
   ]
  },
  {
   "cell_type": "code",
   "execution_count": 87,
   "metadata": {
    "collapsed": false
   },
   "outputs": [
    {
     "name": "stdout",
     "output_type": "stream",
     "text": [
      "Adjective of interest  \n",
      "immutable\n",
      "   \n",
      " Word2vec similarity\n",
      "[(u'unalterable', 0.6462440490722656), (u'unchangeable', 0.6407211422920227), (u'unchanging', 0.6349762082099915), (u'inalterable', 0.5698657035827637), (u'changeless', 0.5557388663291931)]\n",
      "Wordnet synset\n",
      "[Synset('immutable.a.01')]\n",
      " \n",
      "Adjective of interest  \n",
      "apprehensive\n",
      "   \n",
      " Word2vec similarity\n",
      "[(u'worried', 0.6918711066246033), (u'leery', 0.6721755862236023), (u'hesitant', 0.6567758321762085), (u'concerned', 0.6544361114501953), (u'nervous', 0.6543329358100891)]\n",
      "Wordnet synset\n",
      "[Synset('apprehensive.s.01'), Synset('apprehensive.s.02'), Synset('apprehensive.s.03')]\n",
      " \n",
      "Adjective of interest  \n",
      "durable\n",
      "   \n",
      " Word2vec similarity\n",
      "[(u'Durable', 0.6746456027030945), (u'sturdy', 0.5750996470451355), (u'Casey_Janssen_Curtis_Granderson', 0.5669221878051758), (u'durability', 0.5513916611671448), (u'UV_resistant', 0.5325372219085693)]\n",
      "Wordnet synset\n",
      "[Synset('durable.s.01'), Synset('durable.s.02'), Synset('durable.s.03')]\n",
      " \n",
      "Adjective of interest  \n",
      "universal\n",
      "   \n",
      " Word2vec similarity\n",
      "[(u'universality', 0.5991981029510498), (u'application_O2Diesel_TM', 0.570652186870575), (u'univeral', 0.5196669101715088), (u'Samaranch_colossal', 0.5124800205230713), (u'universally', 0.45179635286331177)]\n",
      "Wordnet synset\n",
      "[Synset('universal.n.01'), Synset('universal.n.02'), Synset('universal.n.03'), Synset('universal_joint.n.01'), Synset('cosmopolitan.s.03')]\n",
      " \n",
      "Adjective of interest  \n",
      "soverign\n",
      "   \n",
      " Word2vec similarity\n",
      "[(u'sovereign', 0.6626332998275757), (u'soveriegn', 0.6133925914764404), (u'soverignty', 0.5307257175445557), (u'imf', 0.5004329681396484), (u'vassal_states', 0.4871590733528137)]\n",
      "Wordnet synset\n",
      "[]\n",
      " \n"
     ]
    }
   ],
   "source": [
    "\n",
    "for i in Adj_interest:\n",
    "    print \"Adjective of interest  \"\n",
    "    print i\n",
    "    print \"   \"\n",
    "    print \" Word2vec similarity\"\n",
    "    n_vec=new_model.most_similar(positive=i, topn = 5)\n",
    "    print n_vec\n",
    "    print \"Wordnet synset\"\n",
    "    n_syn=wn.synsets(i)[:5]\n",
    "    print  n_syn\n",
    "    print \" \""
   ]
  },
  {
   "cell_type": "code",
   "execution_count": 88,
   "metadata": {
    "collapsed": false
   },
   "outputs": [
    {
     "name": "stdout",
     "output_type": "stream",
     "text": [
      "Verb of interest  \n",
      "endure\n",
      "   \n",
      " Word2vec similarity\n",
      "[(u'endured', 0.7731415033340454), (u'endures', 0.5982805490493774), (u'subjected', 0.5974172353744507), (u'enduring', 0.5964847207069397), (u'suffer', 0.5808500051498413)]\n",
      "Wordnet synset\n",
      "[Synset('digest.v.03'), Synset('weather.v.01'), Synset('survive.v.01'), Synset('suffer.v.01'), Synset('wear.v.06')]\n",
      " \n",
      "Verb of interest  \n",
      "restrain\n",
      "   \n",
      " Word2vec similarity\n",
      "[(u'restraining', 0.7259188890457153), (u'restrained', 0.607153058052063), (u'subdue', 0.6048118472099304), (u'rein', 0.5926220417022705), (u'restrains', 0.5815330147743225)]\n",
      "Wordnet synset\n",
      "[Synset('restrain.v.01'), Synset('restrict.v.03'), Synset('restrain.v.03'), Synset('restrain.v.04'), Synset('intimidate.v.02')]\n",
      " \n",
      "Verb of interest  \n",
      "regulate\n",
      "   \n",
      " Word2vec similarity\n",
      "[(u'regulating', 0.8049445152282715), (u'regulates', 0.7252904772758484), (u'regulated', 0.6486166715621948), (u'restrict', 0.6361327171325684), (u'Regulate', 0.5880163908004761)]\n",
      "Wordnet synset\n",
      "[Synset('regulate.v.01'), Synset('regulate.v.02'), Synset('determine.v.02'), Synset('baffle.v.03')]\n",
      " \n",
      "Verb of interest  \n",
      "inheriting\n",
      "   \n",
      " Word2vec similarity\n",
      "[(u'inherited', 0.7634140253067017), (u'inherit', 0.7144783735275269), (u'inherits', 0.6731788516044617), (u'Inheriting', 0.5708431601524353), (u'bequeathing', 0.5174927711486816)]\n",
      "Wordnet synset\n",
      "[Synset('inherit.v.01'), Synset('inherit.v.02'), Synset('inherit.v.03'), Synset('inheriting.s.01')]\n",
      " \n",
      "Verb of interest  \n",
      "judge\n",
      "   \n",
      " Word2vec similarity\n",
      "[(u'appeals_court', 0.7538977861404419), (u'appellate_court', 0.7278202772140503), (u'Judge', 0.7271552681922913), (u'court', 0.6972728967666626), (u'presiding_judge', 0.6748029589653015)]\n",
      "Wordnet synset\n",
      "[Synset('judge.n.01'), Synset('evaluator.n.01'), Synset('judge.v.01'), Synset('evaluate.v.02'), Synset('estimate.v.01')]\n",
      " \n"
     ]
    }
   ],
   "source": [
    "for i in Verb_interest:\n",
    "    print \"Verb of interest  \"\n",
    "    print i\n",
    "    print \"   \"\n",
    "    print \" Word2vec similarity\"\n",
    "    n_vec=new_model.most_similar(positive=i, topn = 5)\n",
    "    print n_vec\n",
    "    print \"Wordnet synset\"\n",
    "    n_syn=wn.synsets(i)[:5]\n",
    "    print  n_syn\n",
    "    print \" \""
   ]
  },
  {
   "cell_type": "markdown",
   "metadata": {},
   "source": [
    "#  Observation:\n",
    "* It is clear from comparison that wrod2vec tries to provide similar class of things related to a word eg: President : CEO, Chairman which reflect the notion of leadership eventhought each of those nouns are non-synonymous , while Synsets capture the cognitive synonymys associated with a word eg: President :President, President_of_United_States etc. all reinforcing the one single notion of Presidency . \n",
    "\n",
    "* In certain cases the verbs generated by both word2vec and wordnet are more or less similar eg: The verb gerund 'Inheriting' is consistent across both word2vec and synsets. \n",
    "\n"
   ]
  },
  {
   "cell_type": "code",
   "execution_count": 2,
   "metadata": {
    "collapsed": false
   },
   "outputs": [
    {
     "data": {
      "text/plain": [
       "2"
      ]
     },
     "execution_count": 2,
     "metadata": {},
     "output_type": "execute_result"
    }
   ],
   "source": [
    "#Test\n",
    "\n",
    "1+1"
   ]
  },
  {
   "cell_type": "code",
   "execution_count": null,
   "metadata": {
    "collapsed": true
   },
   "outputs": [],
   "source": []
  },
  {
   "cell_type": "code",
   "execution_count": null,
   "metadata": {
    "collapsed": true
   },
   "outputs": [],
   "source": []
  }
 ],
 "metadata": {
  "anaconda-cloud": {},
  "kernelspec": {
   "display_name": "Python [python2]",
   "language": "python",
   "name": "Python [python2]"
  },
  "language_info": {
   "codemirror_mode": {
    "name": "ipython",
    "version": 2
   },
   "file_extension": ".py",
   "mimetype": "text/x-python",
   "name": "python",
   "nbconvert_exporter": "python",
   "pygments_lexer": "ipython2",
   "version": "2.7.12"
  }
 },
 "nbformat": 4,
 "nbformat_minor": 0
}
